{
 "cells": [
  {
   "cell_type": "markdown",
   "id": "e81f8842",
   "metadata": {},
   "source": [
    "# TASK 1: SHAPE DETECTION AND CENTROID COORDINATES<BR>\n",
    "\n",
    "\n",
    "**DESCRIPTION:** I was provided with an image, which I had to download on my system. The task was to detect the polygons present in the image and identify their centroids using the features of CONTOUR function and then I had to print the name of the polygon and the centroid coordinates of the polygon in a file using FILE HANDLING techniques. The submission includes both the file generated as well as the code."
   ]
  },
  {
   "cell_type": "code",
   "execution_count": 1,
   "id": "2816642b",
   "metadata": {},
   "outputs": [],
   "source": [
    "import cv2 as cv\n",
    "import numpy as np"
   ]
  },
  {
   "cell_type": "markdown",
   "id": "7b4bb541",
   "metadata": {},
   "source": [
    "## Stack Images Code Snippet (Taken from github)"
   ]
  },
  {
   "cell_type": "code",
   "execution_count": 2,
   "id": "a1edd5fc",
   "metadata": {},
   "outputs": [],
   "source": [
    "def stackImages(scale,imgArray):\n",
    "    rows = len(imgArray)\n",
    "    cols = len(imgArray[0])\n",
    "    rowsAvailable = isinstance(imgArray[0], list)\n",
    "    width = imgArray[0][0].shape[1]\n",
    "    height = imgArray[0][0].shape[0]\n",
    "    if rowsAvailable:\n",
    "        for x in range ( 0, rows):\n",
    "            for y in range(0, cols):\n",
    "                if imgArray[x][y].shape[:2] == imgArray[0][0].shape [:2]:\n",
    "                    imgArray[x][y] = cv.resize(imgArray[x][y], (0, 0), None, scale, scale)\n",
    "                else:\n",
    "                    imgArray[x][y] = cv.resize(imgArray[x][y], (imgArray[0][0].shape[1], imgArray[0][0].shape[0]), None, scale, scale)\n",
    "                if len(imgArray[x][y].shape) == 2: imgArray[x][y]= cv.cvtColor( imgArray[x][y], cv.COLOR_GRAY2BGR)\n",
    "        imageBlank = np.zeros((height, width, 3), np.uint8)\n",
    "        hor = [imageBlank]*rows\n",
    "        hor_con = [imageBlank]*rows\n",
    "        for x in range(0, rows):\n",
    "            hor[x] = np.hstack(imgArray[x])\n",
    "        ver = np.vstack(hor)\n",
    "    else:\n",
    "        for x in range(0, rows):\n",
    "            if imgArray[x].shape[:2] == imgArray[0].shape[:2]:\n",
    "                imgArray[x] = cv.resize(imgArray[x], (0, 0), None, scale, scale)\n",
    "            else:\n",
    "                imgArray[x] = cv.resize(imgArray[x], (imgArray[0].shape[1], imgArray[0].shape[0]), None,scale, scale)\n",
    "            if len(imgArray[x].shape) == 2: imgArray[x] = cv.cvtColor(imgArray[x], cv.COLOR_GRAY2BGR)\n",
    "        hor= np.hstack(imgArray)\n",
    "        ver = hor\n",
    "    return ver"
   ]
  },
  {
   "cell_type": "markdown",
   "id": "7e847121",
   "metadata": {},
   "source": [
    "## Creating function to compute number of sides/corners, shape & its centroid "
   ]
  },
  {
   "cell_type": "code",
   "execution_count": 5,
   "id": "2070a9dd",
   "metadata": {},
   "outputs": [],
   "source": [
    "def getContours(img):\n",
    "    contours, _ = cv.findContours(img, cv.RETR_EXTERNAL, cv.CHAIN_APPROX_NONE) \n",
    "    #Retrieval method = external (extreme outer contours, good for outer edges),\n",
    "    #chain_approx = requests for all of the information or for compressed values of contours\n",
    "    \n",
    "    #save file in txt format\n",
    "    with open(\"shapes.txt\", \"w\") as file:\n",
    "        for cnt in contours:\n",
    "            area = cv.contourArea(cnt)\n",
    "            print(f\"Area: {area}\")\n",
    "\n",
    "\n",
    "            #give a min threshold for area, so that it does not detect any noise\n",
    "            if area > 500:\n",
    "                cv.drawContours(imgContour, cnt, -1, (0,255,0), 5)\n",
    "                #calculate curve length to help us approx corners of our shape\n",
    "                perimeter = cv.arcLength(cnt, True) # curve, closed = True\n",
    "                print(f\"Perimeter: {perimeter}\")\n",
    "\n",
    "                #approximate corner points:\n",
    "                epsilon = 0.01 * perimeter #resolution\n",
    "                approx = cv.approxPolyDP(cnt, epsilon, closed = True) #approx will give us the corner points\n",
    "    #             print(approx)\n",
    "                print(f\"Number of sides: {len(approx)}\")\n",
    "                totalCorners = len(approx)\n",
    "\n",
    "                #creating bounding/rect box around our object (x,y,w,h)\n",
    "                x, y, w, h = cv.boundingRect(approx)\n",
    "\n",
    "\n",
    "                # Calculating centroid of each shape (weighted avg of all pixels in blob/shape of similar intensities)\n",
    "                M = cv.moments(approx)\n",
    "                if M[\"m00\"] != 0:\n",
    "                    x_centroid = int(M[\"m10\"] / M[\"m00\"])\n",
    "                    y_centroid = int(M[\"m01\"] / M[\"m00\"])\n",
    "                    print(f\"Centroid: ({x_centroid}, {y_centroid})\")\n",
    "                        \n",
    "                    cv.circle(imgContour, (x_centroid, y_centroid), 5, (255, 0, 0), -1)\n",
    "\n",
    "                #categorization into various shapes: \n",
    "                if totalCorners == 3: \n",
    "                    cv.putText(imgContour, \"Triangle\", (x_centroid, y_centroid), cv.FONT_HERSHEY_COMPLEX, 1, (0, 0, 255), 2)\n",
    "                    file.write(f\"Shape: Triangle\\n\")\n",
    "\n",
    "                elif totalCorners == 4: \n",
    "                    #differentiate between rectangle and square:\n",
    "                    #Square has aspect ratio between width and height as 1 (since width = height)\n",
    "\n",
    "                    aspRatio = w/float(h) #since we are dealing with decimal numbers we define one of them as float\n",
    "\n",
    "                    #deviation of 5% allowed:\n",
    "\n",
    "                    if aspRatio > 0.95 and aspRatio < 1.05:\n",
    "                        cv.putText(imgContour, \"Square\", (x_centroid, y_centroid), cv.FONT_HERSHEY_COMPLEX, 1, (0, 0, 255), 2)\n",
    "                        file.write(f\"Shape: Square\\n\")\n",
    "                    else:\n",
    "                        cv.putText(imgContour, \"Rectangle\", (x_centroid, y_centroid), cv.FONT_HERSHEY_COMPLEX, 1, (0, 0, 255), 2)\n",
    "                        file.write(f\"Shape: Rectangle\\n\")\n",
    "\n",
    "                elif totalCorners == 5: \n",
    "                    cv.putText(imgContour, \"Pentagon\", (x_centroid, y_centroid), cv.FONT_HERSHEY_COMPLEX, 1, (0, 0, 255), 2)\n",
    "                    file.write(f\"Shape: Pentagon\\n\")\n",
    "\n",
    "                elif totalCorners == 6: \n",
    "                    cv.putText(imgContour, \"Hexagon\", (x_centroid, y_centroid), cv.FONT_HERSHEY_COMPLEX, 1, (0, 0, 255), 2)\n",
    "                    file.write(f\"Shape: Hexagon\\n\")\n",
    "\n",
    "                else:\n",
    "                    cv.putText(imgContour, \"Circle\", (x_centroid, y_centroid), cv.FONT_HERSHEY_COMPLEX, 1, (0, 0, 255), 2)\n",
    "                    file.write(f\"Shape: Circle\\n\")\n",
    "                    \n",
    "            \n",
    "                file.write(f\"Area: {area}\\n\")\n",
    "                file.write(f\"Perimeter: {perimeter}\\n\")\n",
    "                file.write(f\"Centroid: ({x_centroid}, {y_centroid})\\n\\n\")\n",
    "\n"
   ]
  },
  {
   "cell_type": "code",
   "execution_count": 6,
   "id": "913f07d5",
   "metadata": {},
   "outputs": [],
   "source": [
    "path = ('C:\\\\Users\\\\iamsa\\\\Desktop\\\\CODES\\\\PYTHON\\\\OPEN CV\\\\OPENCV Crash Course\\\\Projects\\\\Task 1 - Shape Detection\\\\image.jpeg')\n",
    "img = cv.imread(path)\n",
    "imgContour = img.copy()"
   ]
  },
  {
   "cell_type": "markdown",
   "id": "6ec20043",
   "metadata": {},
   "source": [
    "#### Step 1: Convert BGR Image to GrayScale <br>\n",
    "\n",
    "(Compulsory step in case of colored images, but since we already have a b/w image it will visually not make much difference)"
   ]
  },
  {
   "cell_type": "code",
   "execution_count": 7,
   "id": "adfaee0a",
   "metadata": {},
   "outputs": [],
   "source": [
    "gray = cv.cvtColor(img, cv.COLOR_BGR2HSV)"
   ]
  },
  {
   "cell_type": "markdown",
   "id": "fbe58610",
   "metadata": {},
   "source": [
    "#### Step 2: Apply Gausian Blur "
   ]
  },
  {
   "cell_type": "code",
   "execution_count": 8,
   "id": "20bf35d7",
   "metadata": {},
   "outputs": [],
   "source": [
    "blur = cv.GaussianBlur(gray, (7,7), 1) #kernel value, sigma(x) --> measure of level of blur"
   ]
  },
  {
   "cell_type": "markdown",
   "id": "22f40444",
   "metadata": {},
   "source": [
    "#### Step 3: Applying Canny (for Edge Detection) on GrayScale Image <br>\n",
    "\n",
    "Since finding contours (next step) works better on binary canny image or binary thresholded image"
   ]
  },
  {
   "cell_type": "code",
   "execution_count": 9,
   "id": "d24b9e74",
   "metadata": {},
   "outputs": [],
   "source": [
    "canny = cv.Canny(blur, 50, 150)"
   ]
  },
  {
   "cell_type": "markdown",
   "id": "a272a1ee",
   "metadata": {},
   "source": [
    "#### Step 4: Make predictions on our initial image by calling user defined function above"
   ]
  },
  {
   "cell_type": "code",
   "execution_count": 10,
   "id": "2306fc25",
   "metadata": {
    "scrolled": true
   },
   "outputs": [
    {
     "name": "stdout",
     "output_type": "stream",
     "text": [
      "Area: 15992.0\n",
      "Perimeter: 504.48528122901917\n",
      "Number of sides: 4\n",
      "Centroid: (89, 432)\n",
      "Area: 23905.0\n",
      "Perimeter: 771.8721451759338\n",
      "Number of sides: 3\n",
      "Centroid: (457, 474)\n",
      "Area: 47434.0\n",
      "Perimeter: 856.3818116188049\n",
      "Number of sides: 6\n",
      "Centroid: (145, 151)\n"
     ]
    }
   ],
   "source": [
    "getContours(canny)"
   ]
  },
  {
   "cell_type": "code",
   "execution_count": 11,
   "id": "b2a943e7",
   "metadata": {},
   "outputs": [],
   "source": [
    "imgBlank = np.zeros_like(img)\n",
    "imgTitle = imgBlank.copy()\n",
    "cv.putText(imgTitle, \"Task 1 : Shape & Centroid\", (60,300), cv.FONT_HERSHEY_COMPLEX, 1, (0,255,0), 2)\n",
    "cv.putText(imgTitle, \"Detection By Sanjana Dutta\", (60,350), cv.FONT_HERSHEY_COMPLEX, 1, (0,255,0), 2)\n",
    "imgStack = stackImages(0.6, ([img, gray, blur], [canny, imgContour, imgTitle]))"
   ]
  },
  {
   "cell_type": "code",
   "execution_count": 12,
   "id": "60adb9bd",
   "metadata": {},
   "outputs": [],
   "source": [
    "cv.imshow(\"Stack\", imgStack)\n",
    "# cv.imshow('task_pic', img)\n",
    "cv.waitKey(0)\n",
    "cv.destroyAllWindows()"
   ]
  }
 ],
 "metadata": {
  "kernelspec": {
   "display_name": "Python 3 (ipykernel)",
   "language": "python",
   "name": "python3"
  },
  "language_info": {
   "codemirror_mode": {
    "name": "ipython",
    "version": 3
   },
   "file_extension": ".py",
   "mimetype": "text/x-python",
   "name": "python",
   "nbconvert_exporter": "python",
   "pygments_lexer": "ipython3",
   "version": "3.9.12"
  }
 },
 "nbformat": 4,
 "nbformat_minor": 5
}
